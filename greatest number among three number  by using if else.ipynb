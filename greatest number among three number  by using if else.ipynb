{
 "cells": [
  {
   "cell_type": "code",
   "execution_count": 1,
   "id": "2cc253c8",
   "metadata": {},
   "outputs": [
    {
     "name": "stdout",
     "output_type": "stream",
     "text": [
      "enter the value of a:5\n"
     ]
    }
   ],
   "source": [
    "#Type1\n",
    "a=float(input(\"enter the value of a:\"))"
   ]
  },
  {
   "cell_type": "code",
   "execution_count": 2,
   "id": "21b5ebec",
   "metadata": {},
   "outputs": [
    {
     "name": "stdout",
     "output_type": "stream",
     "text": [
      "enter the value of b:6\n"
     ]
    }
   ],
   "source": [
    "b=float(input(\"enter the value of b:\"))"
   ]
  },
  {
   "cell_type": "code",
   "execution_count": 3,
   "id": "289e8501",
   "metadata": {},
   "outputs": [
    {
     "name": "stdout",
     "output_type": "stream",
     "text": [
      "enter the value of c:7\n"
     ]
    }
   ],
   "source": [
    "c=float(input(\"enter the value of c:\"))"
   ]
  },
  {
   "cell_type": "code",
   "execution_count": 8,
   "id": "32069e71",
   "metadata": {},
   "outputs": [
    {
     "name": "stdout",
     "output_type": "stream",
     "text": [
      "the greatest number among the three is 7.0\n",
      "Program is over\n"
     ]
    }
   ],
   "source": [
    "if(a==b and b==c):\n",
    "    print(\"all three numbers are equal\")\n",
    "else:\n",
    "    if(a>b and a>c):\n",
    "        print(\"the greatest number among the three is {}\".format(a))\n",
    "    \n",
    "    if(a<b and b>c):\n",
    "        print(\"the greatest number among the three is {}\".format(b))\n",
    "\n",
    "    if(a<c and b<c):\n",
    "        print(\"the greatest number among the three is {}\".format(c))\n",
    "print(\"Program is over\")"
   ]
  },
  {
   "cell_type": "code",
   "execution_count": 9,
   "id": "d0395537",
   "metadata": {},
   "outputs": [
    {
     "name": "stdout",
     "output_type": "stream",
     "text": [
      "enter the value of a:5\n"
     ]
    }
   ],
   "source": [
    "#type2\n",
    "a=float(input(\"enter the value of a:\"))"
   ]
  },
  {
   "cell_type": "code",
   "execution_count": 10,
   "id": "f2391b7b",
   "metadata": {},
   "outputs": [
    {
     "name": "stdout",
     "output_type": "stream",
     "text": [
      "enter the value of b:6\n"
     ]
    }
   ],
   "source": [
    "b=float(input(\"enter the value of b:\"))"
   ]
  },
  {
   "cell_type": "code",
   "execution_count": 11,
   "id": "3e91400c",
   "metadata": {},
   "outputs": [
    {
     "name": "stdout",
     "output_type": "stream",
     "text": [
      "enter the value of c:5\n"
     ]
    }
   ],
   "source": [
    "c=float(input(\"enter the value of c:\"))"
   ]
  },
  {
   "cell_type": "code",
   "execution_count": 13,
   "id": "4ba39587",
   "metadata": {},
   "outputs": [
    {
     "name": "stdout",
     "output_type": "stream",
     "text": [
      "The greatest number is5.0,6.0,5.0 = 6.0\n"
     ]
    }
   ],
   "source": [
    "if(a==b and b==c):\n",
    "    print(\"All the values are equal\")\n",
    "else:\n",
    "    big=a\n",
    "    if(b>big):\n",
    "        big=b\n",
    "    if(c>big):\n",
    "        big=c\n",
    "    print(\"The greatest number is {},{},{} = {}\".format(a,b,c,big))\n",
    "    \n",
    "    "
   ]
  },
  {
   "cell_type": "code",
   "execution_count": null,
   "id": "33cce8f1",
   "metadata": {},
   "outputs": [],
   "source": []
  }
 ],
 "metadata": {
  "kernelspec": {
   "display_name": "Python 3 (ipykernel)",
   "language": "python",
   "name": "python3"
  },
  "language_info": {
   "codemirror_mode": {
    "name": "ipython",
    "version": 3
   },
   "file_extension": ".py",
   "mimetype": "text/x-python",
   "name": "python",
   "nbconvert_exporter": "python",
   "pygments_lexer": "ipython3",
   "version": "3.10.9"
  }
 },
 "nbformat": 4,
 "nbformat_minor": 5
}
